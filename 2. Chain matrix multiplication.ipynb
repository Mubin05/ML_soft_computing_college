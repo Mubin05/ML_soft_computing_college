def get_matrix_dimensions(num_matrices):
    dimensions = []
    for i in range(num_matrices):
        while True:
            try:
                row, col = map(int, input(f"Enter the dimensions of matrix {i + 1} (rows columns): ").split())
                if row <= 0 or col <= 0:
                    raise ValueError("Dimensions must be positive integers.")
                dimensions.append(row)
                if i == num_matrices - 1:
                    dimensions.append(col)
                else:
                    dimensions.append(col)
                break
            except ValueError as e:
                print(f"Invalid input. Please enter positive integers for dimensions. Error: {e}")
    return dimensions

def matrix_chain_order(dimensions):
    n = len(dimensions) - 1  # Number of matrices
    m = [[0] * n for _ in range(n)]  # Minimum cost of multiplication
    s = [[0] * n for _ in range(n)]  # Split points for optimal order

    for length in range(2, n + 1):  # length is the chain length
        for i in range(n - length + 1):
            j = i + length - 1
            m[i][j] = float('inf')
            for k in range(i, j):
                q = m[i][k] + m[k + 1][j] + dimensions[i] * dimensions[k + 1] * dimensions[j + 1]
                if q < m[i][j]:
                    m[i][j] = q
                    s[i][j] = k

    return m, s

def print_optimal_parens(s, i, j):
    if i == j:
        print(f"A{i + 1}", end="")
    else:
        print("(", end="")
        print_optimal_parens(s, i, s[i][j])
        print_optimal_parens(s, s[i][j] + 1, j)
        print(")", end="")

def main():
    n = int(input("Enter the number of matrices: "))
    dimensions = get_matrix_dimensions(n)
    
    # Calculate minimum cost and optimal order
    m, s = matrix_chain_order(dimensions)
    
    # Output the minimum number of multiplications
    print("\nMinimum number of multiplications is:", m[0][n - 1])
    
    # Output the optimal order of multiplication
    print("Optimal order of matrix multiplication is:", end=" ")
    print_optimal_parens(s, 0, n - 1)
    print()

if __name__ == "__main__":
    main()
