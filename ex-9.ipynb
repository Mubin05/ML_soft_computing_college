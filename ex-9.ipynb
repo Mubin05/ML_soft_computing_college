{
 "cells": [
  {
   "cell_type": "code",
   "execution_count": 1,
   "metadata": {},
   "outputs": [],
   "source": [
    "import random"
   ]
  },
  {
   "cell_type": "code",
   "execution_count": 2,
   "metadata": {},
   "outputs": [],
   "source": [
    "# Define the fitness function\n",
    "def fitness_function(chromosome):\n",
    "    a, b, c, d, e, f, g, h = [int(gene) for gene in chromosome]\n",
    "    return (a + b) - (c + d) + (e + f) - (g + h)"
   ]
  },
  {
   "cell_type": "code",
   "execution_count": 3,
   "metadata": {},
   "outputs": [],
   "source": [
    "# Initial population\n",
    "population = [\"65413532\", \"87126601\", \"23921285\", \"41852094\"]"
   ]
  },
  {
   "cell_type": "code",
   "execution_count": 4,
   "metadata": {},
   "outputs": [],
   "source": [
    "# Rank individuals by fitness\n",
    "def rank_population(population):\n",
    "    return sorted(population, key=fitness_function, reverse=True)"
   ]
  },
  {
   "cell_type": "code",
   "execution_count": 5,
   "metadata": {},
   "outputs": [],
   "source": [
    "# One-point crossover at the middle\n",
    "def one_point_crossover(chrom1, chrom2):\n",
    "    midpoint = len(chrom1) // 2\n",
    "    child1 = chrom1[:midpoint] + chrom2[midpoint:]\n",
    "    child2 = chrom2[:midpoint] + chrom1[midpoint:]\n",
    "    return child1, child2"
   ]
  },
  {
   "cell_type": "code",
   "execution_count": 6,
   "metadata": {},
   "outputs": [],
   "source": [
    "# Crossover at specific points (b & f) between 2nd and 3rd ranked chromosomes\n",
    "def crossover_b_f(chrom1, chrom2):\n",
    "    child1 = chrom1[0] + chrom2[1] + chrom1[2:5] + chrom2[5] + chrom1[6:]\n",
    "    child2 = chrom2[0] + chrom1[1] + chrom2[2:5] + chrom1[5] + chrom2[6:]\n",
    "    return child1, child2"
   ]
  },
  {
   "cell_type": "code",
   "execution_count": 7,
   "metadata": {},
   "outputs": [],
   "source": [
    "# Uniform crossover between 1st and 3rd ranked chromosomes\n",
    "def uniform_crossover(chrom1, chrom3):\n",
    "    child1 = ''.join([chrom1[i] if random.random() > 0.5 else chrom3[i] for i in range(len(chrom1))])\n",
    "    child2 = ''.join([chrom3[i] if random.random() > 0.5 else chrom1[i] for i in range(len(chrom1))])\n",
    "    return child1, child2"
   ]
  },
  {
   "cell_type": "code",
   "execution_count": 8,
   "metadata": {},
   "outputs": [],
   "source": [
    "# Genetic Algorithm for optimizing f(x)\n",
    "def genetic_algorithm(population, generations=10):\n",
    "    for generation in range(generations):\n",
    "        # Rank population\n",
    "        ranked_population = rank_population(population)\n",
    "\n",
    "        # Selection of top individuals based on fitness\n",
    "        best1, best2, best3, best4 = ranked_population[0], ranked_population[1], ranked_population[2], ranked_population[3]\n",
    "\n",
    "        # Apply crossover operations based on the problem's requirements\n",
    "        # 1. One-point crossover at the middle between best1 and best2\n",
    "        child1, child2 = one_point_crossover(best1, best2)\n",
    "\n",
    "        # 2. Crossover at position b and f between best2 and best3\n",
    "        child3, child4 = crossover_b_f(best2, best3)\n",
    "\n",
    "        # 3. Uniform crossover between best1 and best3\n",
    "        child5, child6 = uniform_crossover(best1, best3)\n",
    "\n",
    "        # Update population with new children\n",
    "        population = [child1, child2, child3, child4, child5, child6]\n",
    "\n",
    "    # Final ranking to get the optimal solution\n",
    "    ranked_population = rank_population(population)\n",
    "    best_solution = ranked_population[0]\n",
    "    best_fitness = fitness_function(best_solution)\n",
    "\n",
    "    return best_solution, best_fitness"
   ]
  },
  {
   "cell_type": "code",
   "execution_count": 9,
   "metadata": {},
   "outputs": [
    {
     "name": "stdout",
     "output_type": "stream",
     "text": [
      "The optimal chromosome is: 67126601\n",
      "The optimal fitness value is: 21\n"
     ]
    }
   ],
   "source": [
    "# Run the genetic algorithm\n",
    "optimal_chromosome, optimal_fitness = genetic_algorithm(population)\n",
    "print(f\"The optimal chromosome is: {optimal_chromosome}\")\n",
    "print(f\"The optimal fitness value is: {optimal_fitness}\")\n"
   ]
  }
 ],
 "metadata": {
  "kernelspec": {
   "display_name": "venv",
   "language": "python",
   "name": "python3"
  },
  "language_info": {
   "codemirror_mode": {
    "name": "ipython",
    "version": 3
   },
   "file_extension": ".py",
   "mimetype": "text/x-python",
   "name": "python",
   "nbconvert_exporter": "python",
   "pygments_lexer": "ipython3",
   "version": "3.12.0"
  }
 },
 "nbformat": 4,
 "nbformat_minor": 2
}
