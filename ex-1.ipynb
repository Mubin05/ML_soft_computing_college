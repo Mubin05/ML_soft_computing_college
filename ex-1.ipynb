{
 "cells": [
  {
   "cell_type": "code",
   "execution_count": 2,
   "metadata": {},
   "outputs": [
    {
     "name": "stdout",
     "output_type": "stream",
     "text": [
      "\n",
      "Minimum number of multiplications is: 820\n",
      "Optimal order of matrix multiplication is: ((A1(A2(A3A4)))A5)\n"
     ]
    }
   ],
   "source": [
    "def get_matrix_dimensions(num_matrices):\n",
    "    dimensions = []\n",
    "    for i in range(num_matrices):\n",
    "        while True:\n",
    "            try:\n",
    "                row, col = map(int, input(f\"Enter the dimensions of matrix {i + 1} (rows columns): \").split())\n",
    "                if row <= 0 or col <= 0:\n",
    "                    raise ValueError(\"Dimensions must be positive integers.\")\n",
    "                dimensions.append(row)\n",
    "                if i == num_matrices - 1:\n",
    "                    dimensions.append(col)\n",
    "                else:\n",
    "                    dimensions.append(col)\n",
    "                break\n",
    "            except ValueError as e:\n",
    "                print(f\"Invalid input. Please enter positive integers for dimensions. Error: {e}\")\n",
    "    return dimensions\n",
    "\n",
    "def matrix_chain_order(dimensions):\n",
    "    n = len(dimensions) - 1  # Number of matrices\n",
    "    m = [[0] * n for _ in range(n)]  # Minimum cost of multiplication\n",
    "    s = [[0] * n for _ in range(n)]  # Split points for optimal order\n",
    "\n",
    "    for length in range(2, n + 1):  # length is the chain length\n",
    "        for i in range(n - length + 1):\n",
    "            j = i + length - 1\n",
    "            m[i][j] = float('inf')\n",
    "            for k in range(i, j):\n",
    "                q = m[i][k] + m[k + 1][j] + dimensions[i] * dimensions[k + 1] * dimensions[j + 1]\n",
    "                if q < m[i][j]:\n",
    "                    m[i][j] = q\n",
    "                    s[i][j] = k\n",
    "\n",
    "    return m, s\n",
    "\n",
    "def print_optimal_parens(s, i, j):\n",
    "    if i == j:\n",
    "        print(f\"A{i + 1}\", end=\"\")\n",
    "    else:\n",
    "        print(\"(\", end=\"\")\n",
    "        print_optimal_parens(s, i, s[i][j])\n",
    "        print_optimal_parens(s, s[i][j] + 1, j)\n",
    "        print(\")\", end=\"\")\n",
    "\n",
    "def main():\n",
    "    n = int(input(\"Enter the number of matrices: \"))\n",
    "    dimensions = get_matrix_dimensions(n)\n",
    "    \n",
    "    # Calculate minimum cost and optimal order\n",
    "    m, s = matrix_chain_order(dimensions)\n",
    "    \n",
    "    # Output the minimum number of multiplications\n",
    "    print(\"\\nMinimum number of multiplications is:\", m[0][n - 1])\n",
    "    \n",
    "    # Output the optimal order of multiplication\n",
    "    print(\"Optimal order of matrix multiplication is:\", end=\" \")\n",
    "    print_optimal_parens(s, 0, n - 1)\n",
    "    print()\n",
    "\n",
    "if __name__ == \"__main__\":\n",
    "    main()"
   ]
  }
 ],
 "metadata": {
  "kernelspec": {
   "display_name": "base",
   "language": "python",
   "name": "python3"
  },
  "language_info": {
   "codemirror_mode": {
    "name": "ipython",
    "version": 3
   },
   "file_extension": ".py",
   "mimetype": "text/x-python",
   "name": "python",
   "nbconvert_exporter": "python",
   "pygments_lexer": "ipython3",
   "version": "3.12.4"
  }
 },
 "nbformat": 4,
 "nbformat_minor": 2
}
