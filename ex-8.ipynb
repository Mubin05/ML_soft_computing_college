{
 "cells": [
  {
   "cell_type": "code",
   "execution_count": 1,
   "metadata": {},
   "outputs": [],
   "source": [
    "import random"
   ]
  },
  {
   "cell_type": "code",
   "execution_count": 2,
   "metadata": {},
   "outputs": [],
   "source": [
    "# Define the objective function\n",
    "def fitness_function(x):\n",
    "    return x ** 2"
   ]
  },
  {
   "cell_type": "code",
   "execution_count": 3,
   "metadata": {},
   "outputs": [],
   "source": [
    "# Encode integers to 5-bit binary strings\n",
    "def encode(x):\n",
    "    return f\"{x:05b}\""
   ]
  },
  {
   "cell_type": "code",
   "execution_count": 4,
   "metadata": {},
   "outputs": [],
   "source": [
    "\n",
    "# Decode 5-bit binary strings to integers\n",
    "def decode(binary_str):\n",
    "    return int(binary_str, 2)"
   ]
  },
  {
   "cell_type": "code",
   "execution_count": 5,
   "metadata": {},
   "outputs": [],
   "source": [
    "# Initial population\n",
    "population = [encode(x) for x in [13, 24, 8, 19]]"
   ]
  },
  {
   "cell_type": "code",
   "execution_count": 6,
   "metadata": {},
   "outputs": [],
   "source": [
    "# Roulette Wheel Selection\n",
    "def roulette_wheel_selection(population, fitness_values):\n",
    "    total_fitness = sum(fitness_values)\n",
    "    selection_probs = [f / total_fitness for f in fitness_values]\n",
    "    return population[random.choices(range(len(population)), weights=selection_probs, k=1)[0]]"
   ]
  },
  {
   "cell_type": "code",
   "execution_count": 7,
   "metadata": {},
   "outputs": [],
   "source": [
    "# One-point Crossover\n",
    "def one_point_crossover(parent1, parent2):\n",
    "    crossover_point = random.randint(1, len(parent1) - 1)\n",
    "    child1 = parent1[:crossover_point] + parent2[crossover_point:]\n",
    "    child2 = parent2[:crossover_point] + parent1[crossover_point:]\n",
    "    return child1, child2"
   ]
  },
  {
   "cell_type": "code",
   "execution_count": 8,
   "metadata": {},
   "outputs": [],
   "source": [
    "# Genetic Algorithm to maximize f(x) = x^2\n",
    "def genetic_algorithm(population, generations=10):\n",
    "    for generation in range(generations):\n",
    "        # Calculate fitness for each chromosome\n",
    "        decoded_values = [decode(chromosome) for chromosome in population]\n",
    "        fitness_values = [fitness_function(x) for x in decoded_values]\n",
    "\n",
    "        # Selection\n",
    "        new_population = []\n",
    "        for _ in range(len(population) // 2):\n",
    "            parent1 = roulette_wheel_selection(population, fitness_values)\n",
    "            parent2 = roulette_wheel_selection(population, fitness_values)\n",
    "\n",
    "            # Crossover\n",
    "            child1, child2 = one_point_crossover(parent1, parent2)\n",
    "            new_population.extend([child1, child2])\n",
    "\n",
    "        # Update population\n",
    "        population = new_population\n",
    "\n",
    "    # Find the best solution in the final population\n",
    "    decoded_values = [decode(chromosome) for chromosome in population]\n",
    "    fitness_values = [fitness_function(x) for x in decoded_values]\n",
    "    max_index = fitness_values.index(max(fitness_values))\n",
    "    best_solution = decoded_values[max_index]\n",
    "\n",
    "    return best_solution, max(fitness_values)"
   ]
  },
  {
   "cell_type": "code",
   "execution_count": 9,
   "metadata": {},
   "outputs": [
    {
     "name": "stdout",
     "output_type": "stream",
     "text": [
      "The value of x for which f(x) is maximum is: 25\n",
      "The maximum value of f(x) is: 625\n"
     ]
    }
   ],
   "source": [
    "# Run the genetic algorithm\n",
    "best_x, max_fitness = genetic_algorithm(population)\n",
    "print(f\"The value of x for which f(x) is maximum is: {best_x}\")\n",
    "print(f\"The maximum value of f(x) is: {max_fitness}\")"
   ]
  }
 ],
 "metadata": {
  "kernelspec": {
   "display_name": "venv",
   "language": "python",
   "name": "python3"
  },
  "language_info": {
   "codemirror_mode": {
    "name": "ipython",
    "version": 3
   },
   "file_extension": ".py",
   "mimetype": "text/x-python",
   "name": "python",
   "nbconvert_exporter": "python",
   "pygments_lexer": "ipython3",
   "version": "3.12.0"
  }
 },
 "nbformat": 4,
 "nbformat_minor": 2
}
